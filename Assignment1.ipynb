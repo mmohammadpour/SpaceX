{
 "cells": [
  {
   "cell_type": "code",
   "execution_count": 1,
   "id": "b449801b",
   "metadata": {},
   "outputs": [],
   "source": [
    "my_var= \"koshtamshepeshe12345shishpara\""
   ]
  },
  {
   "cell_type": "code",
   "execution_count": 2,
   "id": "f0924518",
   "metadata": {},
   "outputs": [
    {
     "data": {
      "text/plain": [
       "'h'"
      ]
     },
     "execution_count": 2,
     "metadata": {},
     "output_type": "execute_result"
    }
   ],
   "source": [
    "my_var[3]"
   ]
  },
  {
   "cell_type": "code",
   "execution_count": 3,
   "id": "b7a98bc5",
   "metadata": {},
   "outputs": [
    {
     "data": {
      "text/plain": [
       "'h'"
      ]
     },
     "execution_count": 3,
     "metadata": {},
     "output_type": "execute_result"
    }
   ],
   "source": [
    "my_var[-5]"
   ]
  },
  {
   "cell_type": "code",
   "execution_count": 4,
   "id": "56cdb350",
   "metadata": {},
   "outputs": [
    {
     "data": {
      "text/plain": [
       "29"
      ]
     },
     "execution_count": 4,
     "metadata": {},
     "output_type": "execute_result"
    }
   ],
   "source": [
    "len(my_var)"
   ]
  },
  {
   "cell_type": "code",
   "execution_count": 5,
   "id": "e2899593",
   "metadata": {},
   "outputs": [
    {
     "data": {
      "text/plain": [
       "'k'"
      ]
     },
     "execution_count": 5,
     "metadata": {},
     "output_type": "execute_result"
    }
   ],
   "source": [
    "my_var[-29]"
   ]
  },
  {
   "cell_type": "code",
   "execution_count": 6,
   "id": "5a2ec9c4",
   "metadata": {},
   "outputs": [
    {
     "data": {
      "text/plain": [
       "'koshtamshepeshe12345shishpa'"
      ]
     },
     "execution_count": 6,
     "metadata": {},
     "output_type": "execute_result"
    }
   ],
   "source": [
    "my_var[:-2]"
   ]
  },
  {
   "cell_type": "code",
   "execution_count": 7,
   "id": "303dbbcd",
   "metadata": {},
   "outputs": [
    {
     "data": {
      "text/plain": [
       "'ra'"
      ]
     },
     "execution_count": 7,
     "metadata": {},
     "output_type": "execute_result"
    }
   ],
   "source": [
    "my_var[-2:]"
   ]
  },
  {
   "cell_type": "code",
   "execution_count": 8,
   "id": "ddb08054",
   "metadata": {},
   "outputs": [
    {
     "data": {
      "text/plain": [
       "'e1234'"
      ]
     },
     "execution_count": 8,
     "metadata": {},
     "output_type": "execute_result"
    }
   ],
   "source": [
    "my_var[14:19]"
   ]
  },
  {
   "cell_type": "code",
   "execution_count": 9,
   "id": "5535ed17",
   "metadata": {},
   "outputs": [
    {
     "data": {
      "text/plain": [
       "'1234'"
      ]
     },
     "execution_count": 9,
     "metadata": {},
     "output_type": "execute_result"
    }
   ],
   "source": [
    "my_var[15:19]"
   ]
  },
  {
   "cell_type": "code",
   "execution_count": 10,
   "id": "9c1aa9bf",
   "metadata": {},
   "outputs": [],
   "source": [
    "lsr_=[3,2,10]"
   ]
  },
  {
   "cell_type": "code",
   "execution_count": 11,
   "id": "d57995a9",
   "metadata": {},
   "outputs": [
    {
     "data": {
      "text/plain": [
       "3"
      ]
     },
     "execution_count": 11,
     "metadata": {},
     "output_type": "execute_result"
    }
   ],
   "source": [
    "len(lsr_)"
   ]
  },
  {
   "cell_type": "code",
   "execution_count": 12,
   "id": "4747ba64",
   "metadata": {},
   "outputs": [],
   "source": [
    "lsr_.append(500)"
   ]
  },
  {
   "cell_type": "code",
   "execution_count": 15,
   "id": "ab4cabde",
   "metadata": {},
   "outputs": [
    {
     "name": "stdout",
     "output_type": "stream",
     "text": [
      "[3, 2, 10, 500]\n"
     ]
    }
   ],
   "source": [
    "print(lsr_)"
   ]
  },
  {
   "cell_type": "code",
   "execution_count": 16,
   "id": "a805a26e",
   "metadata": {},
   "outputs": [],
   "source": [
    "lsr_.append([20,30,\"hi\"])"
   ]
  },
  {
   "cell_type": "code",
   "execution_count": 17,
   "id": "46468dfc",
   "metadata": {},
   "outputs": [
    {
     "data": {
      "text/plain": [
       "[3, 2, 10, 500, [20, 30, 'hi']]"
      ]
     },
     "execution_count": 17,
     "metadata": {},
     "output_type": "execute_result"
    }
   ],
   "source": [
    "lsr_"
   ]
  },
  {
   "cell_type": "code",
   "execution_count": 19,
   "id": "422fa2b9",
   "metadata": {},
   "outputs": [],
   "source": [
    "lsr_.insert(2,\"Ghazal\")"
   ]
  },
  {
   "cell_type": "code",
   "execution_count": 20,
   "id": "a70f11b2",
   "metadata": {},
   "outputs": [
    {
     "data": {
      "text/plain": [
       "[3, 2, 'Ghazal', 10, 500, [20, 30, 'hi']]"
      ]
     },
     "execution_count": 20,
     "metadata": {},
     "output_type": "execute_result"
    }
   ],
   "source": [
    "lsr_"
   ]
  },
  {
   "cell_type": "code",
   "execution_count": 25,
   "id": "ce962972",
   "metadata": {},
   "outputs": [
    {
     "data": {
      "text/plain": [
       "'i'"
      ]
     },
     "execution_count": 25,
     "metadata": {},
     "output_type": "execute_result"
    }
   ],
   "source": [
    "lsr_[5][2][1]"
   ]
  },
  {
   "cell_type": "raw",
   "id": "0288eb0f",
   "metadata": {},
   "source": [
    "lsr_[2][3]\n"
   ]
  },
  {
   "cell_type": "code",
   "execution_count": 23,
   "id": "81abdeeb",
   "metadata": {},
   "outputs": [
    {
     "data": {
      "text/plain": [
       "[3, 2, 'Ghazal', 10, 500, [20, 30, 'hi']]"
      ]
     },
     "execution_count": 23,
     "metadata": {},
     "output_type": "execute_result"
    }
   ],
   "source": [
    "lsr_"
   ]
  },
  {
   "cell_type": "code",
   "execution_count": 24,
   "id": "211c3821",
   "metadata": {},
   "outputs": [
    {
     "data": {
      "text/plain": [
       "'z'"
      ]
     },
     "execution_count": 24,
     "metadata": {},
     "output_type": "execute_result"
    }
   ],
   "source": [
    "lsr_[2][3]"
   ]
  },
  {
   "cell_type": "code",
   "execution_count": null,
   "id": "25ce3650",
   "metadata": {},
   "outputs": [],
   "source": []
  }
 ],
 "metadata": {
  "kernelspec": {
   "display_name": "Python 3 (ipykernel)",
   "language": "python",
   "name": "python3"
  },
  "language_info": {
   "codemirror_mode": {
    "name": "ipython",
    "version": 3
   },
   "file_extension": ".py",
   "mimetype": "text/x-python",
   "name": "python",
   "nbconvert_exporter": "python",
   "pygments_lexer": "ipython3",
   "version": "3.10.9"
  }
 },
 "nbformat": 4,
 "nbformat_minor": 5
}
